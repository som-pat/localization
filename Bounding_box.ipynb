{
  "nbformat": 4,
  "nbformat_minor": 0,
  "metadata": {
    "colab": {
      "provenance": [],
      "authorship_tag": "ABX9TyM4eqa/sD8kQttKf6sOBoP1",
      "include_colab_link": true
    },
    "kernelspec": {
      "name": "python3",
      "display_name": "Python 3"
    },
    "language_info": {
      "name": "python"
    }
  },
  "cells": [
    {
      "cell_type": "markdown",
      "metadata": {
        "id": "view-in-github",
        "colab_type": "text"
      },
      "source": [
        "<a href=\"https://colab.research.google.com/github/som-pat/localization/blob/main/Bounding_box.ipynb\" target=\"_parent\"><img src=\"https://colab.research.google.com/assets/colab-badge.svg\" alt=\"Open In Colab\"/></a>"
      ]
    },
    {
      "cell_type": "code",
      "execution_count": 12,
      "metadata": {
        "id": "hRqFZINxO8C4",
        "colab": {
          "base_uri": "https://localhost:8080/"
        },
        "outputId": "a8100e94-7545-4f9d-f503-166ec6315d85"
      },
      "outputs": [
        {
          "output_type": "stream",
          "name": "stdout",
          "text": [
            "Colab only includes TensorFlow 2.x; %tensorflow_version has no effect.\n",
            "2.15.0\n"
          ]
        }
      ],
      "source": [
        "try:\n",
        "  %tensorflow_version 2.x\n",
        "except Exception:\n",
        "  pass\n",
        "import tensorflow as tf\n",
        "print(tf.__version__)"
      ]
    },
    {
      "cell_type": "code",
      "source": [
        "import numpy as np\n",
        "import pandas as pd\n",
        "from matplotlib.pyplot import plot as plt\n",
        "from tensorflow.keras.layers import Dense,Flatten,Conv2D,MaxPooling2D\n",
        "from tensorflow.keras import Sequential\n",
        "from tensorflow.keras.models import Model\n",
        "from tensorflow.keras.optimizers import Adam,SGD"
      ],
      "metadata": {
        "id": "E5SCvogDO_wx"
      },
      "execution_count": 13,
      "outputs": []
    },
    {
      "cell_type": "code",
      "source": [
        "pre_train_vgg = tf.keras.applications.vgg16.VGG16(\n",
        "    input_shape=(100,100,3),\n",
        "    include_top=False,\n",
        "    weights='imagenet'\n",
        ")"
      ],
      "metadata": {
        "id": "JIcTXAVjaPIm"
      },
      "execution_count": 14,
      "outputs": []
    },
    {
      "cell_type": "code",
      "source": [
        "x = Flatten()(pre_train_vgg.output)\n",
        "x = Dense(4,activation='sigmoid')(x)\n",
        "model = Model(pre_train_vgg.input,x)"
      ],
      "metadata": {
        "id": "KWrMG-YSckkE"
      },
      "execution_count": 15,
      "outputs": []
    },
    {
      "cell_type": "code",
      "source": [
        "def image_generator(batch_size=64):\n",
        "  while True:\n",
        "    for _ in range(50):\n",
        "      x = np.zeros((batch_size,100,100,3))\n",
        "      y = np.zeros((batch_size,4))\n",
        "\n",
        "      for i in range(batch_size):\n",
        "        row0 = np.random.randint(90)\n",
        "        row1 = np.random.randint(row0,100)\n",
        "        col0 = np.random.randint(90)\n",
        "        col1 = np.random.randint(col0,100)\n",
        "        x[i,row0:row1,col0:col1,:] = 1\n",
        "        y[i,0] = row0/100\n",
        "        y[i,1] = col0/100\n",
        "        y[i,2] = (row1-row0)/100\n",
        "        y[i,3] = (col1-col0)/100\n",
        "\n",
        "      yield x,y\n"
      ],
      "metadata": {
        "id": "e6LMdER_JLog"
      },
      "execution_count": 16,
      "outputs": []
    },
    {
      "cell_type": "code",
      "source": [
        "model.compile(loss='binary_crossentropy',optimizer=Adam(learning_rate=0.001))"
      ],
      "metadata": {
        "id": "3uPvT6M1UHT6"
      },
      "execution_count": 17,
      "outputs": []
    },
    {
      "cell_type": "code",
      "source": [
        "model.fit(\n",
        "    image_generator(),\n",
        "    steps_per_epoch=50,\n",
        "    epochs=5,\n",
        "    verbose=1\n",
        ")"
      ],
      "metadata": {
        "colab": {
          "base_uri": "https://localhost:8080/"
        },
        "id": "VRuSLGFmUXqQ",
        "outputId": "551a4321-ac33-41fb-88e4-96fd4f04a187"
      },
      "execution_count": 18,
      "outputs": [
        {
          "output_type": "stream",
          "name": "stdout",
          "text": [
            "Epoch 1/5\n",
            "50/50 [==============================] - 1278s 26s/step - loss: 0.6658\n",
            "Epoch 2/5\n",
            "50/50 [==============================] - 1198s 24s/step - loss: 0.5184\n",
            "Epoch 3/5\n",
            "50/50 [==============================] - 1200s 24s/step - loss: 0.5101\n",
            "Epoch 4/5\n",
            "50/50 [==============================] - 1202s 24s/step - loss: 0.5066\n",
            "Epoch 5/5\n",
            "50/50 [==============================] - 1200s 24s/step - loss: 0.5046\n"
          ]
        },
        {
          "output_type": "execute_result",
          "data": {
            "text/plain": [
              "<keras.src.callbacks.History at 0x7b6255a4f4c0>"
            ]
          },
          "metadata": {},
          "execution_count": 18
        }
      ]
    },
    {
      "cell_type": "code",
      "source": [
        "from matplotlib.patches import Rectangle\n",
        "import matplotlib.pyplot as plt\n",
        "def making_rect_predictions():\n",
        "  x = np.zeros((100,100,3))\n",
        "  row0 = np.random.randint(90)\n",
        "  row1 = np.random.randint(row0,100)\n",
        "  col0 = np.random.randint(90)\n",
        "  col1 = np.random.randint(col0,100)\n",
        "  x[row0:row1,col0:col1,:] = 1\n",
        "\n",
        "  print(row0,row1,col0,col1)\n",
        "  X = np.expand_dims(x,axis=0)\n",
        "  p = model.predict(X)[0]\n",
        "\n",
        "  fig,ax = plt.subplots(1)\n",
        "  ax.imshow(x)\n",
        "  rect=Rectangle((p[1]*100,p[0]*100),p[3]*100,p[2]*100,\n",
        "                 linewidth=1,edgecolor='r',facecolor='none')\n",
        "  ax.add_patch(rect)\n",
        "  plt.show()\n",
        "\n",
        "\n",
        "\n"
      ],
      "metadata": {
        "id": "9IOZzgJCWGrp"
      },
      "execution_count": 24,
      "outputs": []
    },
    {
      "cell_type": "code",
      "source": [
        "making_rect_predictions()"
      ],
      "metadata": {
        "colab": {
          "base_uri": "https://localhost:8080/",
          "height": 468
        },
        "id": "VNDy4Sbs4NX3",
        "outputId": "57a464bf-05a1-4a54-ca69-8fa82d2b9ff1"
      },
      "execution_count": 30,
      "outputs": [
        {
          "output_type": "stream",
          "name": "stdout",
          "text": [
            "13 94 22 98\n",
            "1/1 [==============================] - 0s 196ms/step\n"
          ]
        },
        {
          "output_type": "display_data",
          "data": {
            "text/plain": [
              "<Figure size 640x480 with 1 Axes>"
            ],
            "image/png": "[encoded data removed]"
          },
          "metadata": {}
        }
      ]
    }
  ]
}